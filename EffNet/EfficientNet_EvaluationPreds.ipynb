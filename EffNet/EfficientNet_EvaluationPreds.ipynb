{
 "cells": [
  {
   "cell_type": "markdown",
   "id": "a359e35e-9f9d-4b11-94eb-f9d1eb0cd374",
   "metadata": {},
   "source": [
    "## !Important to do this first to have the effnetv2 model installed!"
   ]
  },
  {
   "cell_type": "code",
   "execution_count": 1,
   "id": "2aa3fc36-8937-4c0e-9d1c-2601d2fef62b",
   "metadata": {
    "tags": []
   },
   "outputs": [],
   "source": [
    "%%capture\n",
    "#@title\n",
    "!pip install tensorflow_addons\n",
    "\n",
    "import os\n",
    "import sys\n",
    "import tensorflow.compat.v1 as tf\n",
    "\n",
    "# Download source code.\n",
    "if \"efficientnetv2\" not in os.getcwd():\n",
    "    !git clone --depth 1 https://github.com/google/automl\n",
    "    os.chdir('automl/efficientnetv2')\n",
    "    sys.path.append('.')\n",
    "else:\n",
    "    !git pull\n",
    "\n",
    "def download(m):\n",
    "    if m not in os.listdir():\n",
    "        !wget https://storage.googleapis.com/cloud-tpu-checkpoints/efficientnet/v2/{m}.tgz\n",
    "        !tar zxf {m}.tgz\n",
    "    ckpt_path = os.path.join(os.getcwd(), m)\n",
    "    return ckpt_path"
   ]
  },
  {
   "cell_type": "markdown",
   "id": "695ba33d-0cee-4cdf-87fe-4fbde31fe14d",
   "metadata": {},
   "source": [
    "## Import my funcs and other necessary libraries"
   ]
  },
  {
   "cell_type": "code",
   "execution_count": 2,
   "id": "3bd57d0b-699e-4f6a-b9e5-69a755e3b8f6",
   "metadata": {
    "tags": []
   },
   "outputs": [],
   "source": [
    "import EfficientNet_Functions as myfuncs"
   ]
  },
  {
   "cell_type": "code",
   "execution_count": 3,
   "id": "f6292652-cf9b-413e-a217-923d0f87cb56",
   "metadata": {
    "tags": []
   },
   "outputs": [],
   "source": [
    "import tensorflow_hub as hub\n",
    "import itertools\n",
    "import os\n",
    "\n",
    "import matplotlib.pylab as plt\n",
    "import numpy as np\n",
    "import csv\n",
    "import PIL\n",
    "import PIL.Image\n",
    "import tensorflow as tf\n",
    "#import tensorflow_datasets as tfds\n",
    "import pathlib\n",
    "from tensorflow import keras\n",
    "from tensorflow.keras import layers\n",
    "from tensorflow.keras.preprocessing.image import ImageDataGenerator\n",
    "import matplotlib.pyplot as plt"
   ]
  },
  {
   "cell_type": "markdown",
   "id": "c2deb32f-7ce6-4039-be61-530485dcddfa",
   "metadata": {},
   "source": [
    "## Configs"
   ]
  },
  {
   "cell_type": "code",
   "execution_count": 4,
   "id": "482758ba-5932-4d99-9456-e5d1be3a32ce",
   "metadata": {
    "tags": []
   },
   "outputs": [],
   "source": [
    "data_dir_train = '/projectnb/dl523/students/nannkat/EC520/wikipaintings_full/content/gdrive/Shareddrives/520 Project/Data/wikipaintings_full_aug/train'\n",
    "data_dir_val = '/projectnb/dl523/students/nannkat/EC520/wikipaintings_full/wikipaintings_val'\n",
    "data_dir_test = '/projectnb/dl523/students/nannkat/EC520/wikipaintings_full/wikipaintings_test'\n",
    "\n",
    "checkpoint_path = \"/projectnb/dl523/students/nannkat/EC520/training/cp.ckpt\"\n",
    "model_path = '/projectnb/dl523/students/nannkat/EC520/training/effnetv2_model'\n",
    "\n",
    "IMAGE_SIZE = 223\n",
    "BATCH_SIZE =  64 \n",
    "LEARNING_RATE = 0.001"
   ]
  },
  {
   "cell_type": "markdown",
   "id": "a2b301ce-9a26-4879-8115-08e1dc28471b",
   "metadata": {},
   "source": [
    "## Load data"
   ]
  },
  {
   "cell_type": "code",
   "execution_count": null,
   "id": "452bee59-a999-4c7e-b18d-19ac12764621",
   "metadata": {
    "tags": []
   },
   "outputs": [],
   "source": [
    "_,_,test_generator = myfuncs.load_wikidata(data_dir_train, data_dir_val, data_dir_test,\n",
    "                                                                batch_size = BATCH_SIZE, image_size = IMAGE_SIZE)\n",
    "\n",
    "myfuncs.visualize_input(test_generator)"
   ]
  },
  {
   "cell_type": "markdown",
   "id": "33182817-e828-4efb-beb4-855e544297ba",
   "metadata": {},
   "source": [
    "## Load trained model"
   ]
  },
  {
   "cell_type": "code",
   "execution_count": 6,
   "id": "260b20bf-7225-418b-9b00-c740c12970cc",
   "metadata": {
    "tags": []
   },
   "outputs": [
    {
     "name": "stderr",
     "output_type": "stream",
     "text": [
      "WARNING:tensorflow:From /share/pkg.7/tensorflow/2.7.0/install/lib/SCC/../python3.8/site-packages/tensorflow/python/training/tracking/util.py:1343: NameBasedSaverStatus.__init__ (from tensorflow.python.training.tracking.util) is deprecated and will be removed in a future version.\n",
      "Instructions for updating:\n",
      "Restoring a name-based tf.train.Saver checkpoint using the object-based restore API. This mode uses global names to match variables, and so is somewhat fragile. It also adds new restore ops to the graph each time it is called when graph building. Prefer re-encoding training checkpoints in the object-based format: run save() on the object-based saver (the same one this message is coming from) and use that checkpoint in the future.\n"
     ]
    },
    {
     "name": "stdout",
     "output_type": "stream",
     "text": [
      "Model: \"sequential\"\n",
      "_________________________________________________________________\n",
      " Layer (type)                Output Shape              Param #   \n",
      "=================================================================\n",
      " efficientnetv2-l (EffNetV2M  (None, 1280)             117746848 \n",
      " odel)                                                           \n",
      "                                                                 \n",
      " dropout_1 (Dropout)         (None, 1280)              0         \n",
      "                                                                 \n",
      " dense (Dense)               (None, 25)                32025     \n",
      "                                                                 \n",
      "=================================================================\n",
      "Total params: 117,778,873\n",
      "Trainable params: 32,025\n",
      "Non-trainable params: 117,746,848\n",
      "_________________________________________________________________\n"
     ]
    }
   ],
   "source": [
    "initialize = False\n",
    "\n",
    "if initialize:\n",
    "    model = myfuncs.get_new_model()\n",
    "else:\n",
    "    model = myfuncs.restore_model(checkpoint_path, learning_rate = LEARNING_RATE)"
   ]
  },
  {
   "cell_type": "markdown",
   "id": "1cd360a2-f9e0-41ef-8bc8-b7a9e2d37338",
   "metadata": {},
   "source": [
    "## Evaluate"
   ]
  },
  {
   "cell_type": "code",
   "execution_count": 7,
   "id": "0e59b334-c266-45c2-9f59-8c6b9cb5401f",
   "metadata": {
    "tags": []
   },
   "outputs": [
    {
     "name": "stdout",
     "output_type": "stream",
     "text": [
      "128/128 [==============================] - 305s 2s/step - loss: 2.0470 - accuracy: 0.4508 - top_k_categorical_accuracy: 0.8481\n"
     ]
    },
    {
     "data": {
      "text/plain": [
       "[2.046984910964966, 0.4508056640625, 0.84814453125]"
      ]
     },
     "execution_count": 7,
     "metadata": {},
     "output_type": "execute_result"
    }
   ],
   "source": [
    "test_steps = test_generator.samples // test_generator.batch_size\n",
    "model.evaluate(test_generator, steps = test_steps)"
   ]
  },
  {
   "cell_type": "markdown",
   "id": "b22c04d2-eb04-456f-9618-ec8ac95782ad",
   "metadata": {},
   "source": [
    "## Example predictions"
   ]
  },
  {
   "cell_type": "code",
   "execution_count": null,
   "id": "d7be0862-eba6-46ef-ac55-7e811d1c7d5b",
   "metadata": {
    "tags": []
   },
   "outputs": [],
   "source": [
    "myfuncs.visualize_results(model, test_generator)"
   ]
  },
  {
   "cell_type": "markdown",
   "id": "d404ff21-be2d-44d7-9780-64160f7a55ff",
   "metadata": {},
   "source": [
    "## Predict and save .csv"
   ]
  },
  {
   "cell_type": "code",
   "execution_count": 10,
   "id": "bf620e3b-b811-4334-80d8-a52543ee0666",
   "metadata": {},
   "outputs": [
    {
     "name": "stdout",
     "output_type": "stream",
     "text": [
      "Predicting....\n",
      "128/129 [============================>.] - ETA: 16s"
     ]
    }
   ],
   "source": [
    "output_path = '/projectnb/dl523/students/nannkat/EC520/preds_vs_true_effnet_1Freeze10epochLr001.csv'\n",
    "preds, true_labels, preds_df = myfuncs.predict_and_save(model, test_generator, output_path)"
   ]
  },
  {
   "cell_type": "code",
   "execution_count": null,
   "id": "370c818a-27bd-42a1-85cd-62df4ca325b1",
   "metadata": {},
   "outputs": [],
   "source": []
  }
 ],
 "metadata": {
  "kernelspec": {
   "display_name": "Python 3",
   "language": "python",
   "name": "python3"
  },
  "language_info": {
   "codemirror_mode": {
    "name": "ipython",
    "version": 3
   },
   "file_extension": ".py",
   "mimetype": "text/x-python",
   "name": "python",
   "nbconvert_exporter": "python",
   "pygments_lexer": "ipython3",
   "version": "3.8.10"
  }
 },
 "nbformat": 4,
 "nbformat_minor": 5
}
