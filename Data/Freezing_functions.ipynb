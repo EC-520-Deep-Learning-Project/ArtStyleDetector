{
  "cells": [
    {
      "cell_type": "markdown",
      "metadata": {
        "id": "view-in-github",
        "colab_type": "text"
      },
      "source": [
        "<a href=\"https://colab.research.google.com/github/EC-520-Deep-Learning-Project/ArtStyleDetector/blob/main/Data/Freezing_functions.ipynb\" target=\"_parent\"><img src=\"https://colab.research.google.com/assets/colab-badge.svg\" alt=\"Open In Colab\"/></a>"
      ]
    },
    {
      "cell_type": "code",
      "execution_count": null,
      "metadata": {
        "id": "pFvALiZKJ-Cu"
      },
      "outputs": [],
      "source": [
        "# Functions to freeze certain layers in the input model\n",
        "\n",
        "def percentage_to_freeze(model):\n",
        "    # Freezes model paramaters (top down) for the given percentage\n",
        "    percentage_to_freeze = int(input('What percent of the model should be frozen?: '))\n",
        "    freeze_number = math.ceil((1-(1/100*percentage_to_freeze))*len(list(model.named_parameters())))\n",
        "    print('Number of paramaters frozen: ',len(list(model.named_parameters()))-freeze_number)\n",
        "    print('The following parameters remain frozen:')\n",
        "    for (name, param) in list(model.named_parameters())[:-freeze_number]:\n",
        "        print(name)\n",
        "        param.requires_grad = False\n",
        "        "
      ]
    },
    {
      "cell_type": "code",
      "execution_count": null,
      "metadata": {
        "id": "KrrQ1oLBJ-Cz"
      },
      "outputs": [],
      "source": [
        "def freeze_by_children(model):\n",
        "    # Freezes model elements \n",
        "    print('The input model has',len(list(model.named_children())),'children')\n",
        "    for idx,(item,module) in enumerate(list(model.named_children())):\n",
        "        print(idx+1,'-',item)\n",
        "    number_to_freeze = int(input('How many layers would you like to freeze (top down): '))\n",
        "    if number_to_freeze<= len(list(model.named_children())):\n",
        "        \n",
        "        count = 1\n",
        "        for child in model.children():\n",
        "            if count<=number_to_freeze:\n",
        "                for param in child.parameters():\n",
        "                    param.requires_grad = False\n",
        "            else:\n",
        "                for param in child.parameters():\n",
        "                    param.requires_grad = True\n",
        "                print(child,'has been unfrozen')\n",
        "            count+=1\n",
        "    else:\n",
        "        print('Invalid Number')\n"
      ]
    }
  ],
  "metadata": {
    "kernelspec": {
      "display_name": "Python 3",
      "language": "python",
      "name": "python3"
    },
    "language_info": {
      "codemirror_mode": {
        "name": "ipython",
        "version": 3
      },
      "file_extension": ".py",
      "mimetype": "text/x-python",
      "name": "python",
      "nbconvert_exporter": "python",
      "pygments_lexer": "ipython3",
      "version": "3.8.6"
    },
    "colab": {
      "name": "Freezing_functions.ipynb",
      "provenance": [],
      "include_colab_link": true
    }
  },
  "nbformat": 4,
  "nbformat_minor": 0
}