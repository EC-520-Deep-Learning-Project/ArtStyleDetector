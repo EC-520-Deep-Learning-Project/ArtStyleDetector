{
  "cells": [
    {
      "cell_type": "markdown",
      "metadata": {
        "id": "view-in-github",
        "colab_type": "text"
      },
      "source": [
        "<a href=\"https://colab.research.google.com/github/EC-520-Deep-Learning-Project/ArtStyleDetector/blob/main/Image_Augmentation.ipynb\" target=\"_parent\"><img src=\"https://colab.research.google.com/assets/colab-badge.svg\" alt=\"Open In Colab\"/></a>"
      ]
    },
    {
      "cell_type": "code",
      "execution_count": null,
      "metadata": {
        "id": "3iM6MpTjRnE0"
      },
      "outputs": [],
      "source": [
        "%%capture\n",
        "# For Transformations of Images (enter y in prompt)\n",
        "!pip uninstall imgaug\n",
        "!pip install imgaug==0.4.0\n"
      ]
    },
    {
      "cell_type": "code",
      "execution_count": null,
      "metadata": {
        "id": "pc8RCv9oSvLA"
      },
      "outputs": [],
      "source": [
        "%%capture\n",
        "!pip install imagecorruptions"
      ]
    },
    {
      "cell_type": "code",
      "execution_count": null,
      "metadata": {
        "id": "wMCeTe-hckAy"
      },
      "outputs": [],
      "source": [
        "# Imports \n",
        "\n",
        "import numpy as np\n",
        "import os\n",
        "import glob\n",
        "import random\n",
        "import imgaug as ia\n",
        "import imgaug.augmenters as iaa\n",
        "from PIL import Image\n",
        "import cv2\n",
        "import re\n",
        "import imagecorruptions\n",
        "from tqdm import tqdm \n",
        "import shutil\n",
        "import math"
      ]
    },
    {
      "cell_type": "code",
      "execution_count": null,
      "metadata": {
        "colab": {
          "base_uri": "https://localhost:8080/"
        },
        "id": "4rlTpplvciS_",
        "outputId": "7dbaed21-395f-4212-9899-00c13614b02e"
      },
      "outputs": [
        {
          "output_type": "stream",
          "name": "stdout",
          "text": [
            "Mounted at /content/gdrive\n"
          ]
        }
      ],
      "source": [
        "# Other Directory Info\n",
        "colab = True\n",
        "if colab:\n",
        "  #Mounting Drive\n",
        "  from google.colab import drive\n",
        "  drive.mount('/content/gdrive',force_remount = True)\n",
        "  ART_DIR = '/content/gdrive/Shareddrives/520 Project/Data/wikipaintings_full/wikipaintings_train'\n",
        "  CSV_PATH = '/content/gdrive/Shareddrives/520 Project/Data/efficientnetv2_csv'\n",
        "  AUG_PATH = '/content/gdrive/Shareddrives/520 Project/Data/wikipaintings_full_aug/train'\n",
        "else: #scc paths\n",
        "  ART_DIR = '/projectnb/dl523/students/colejh/520/wikipaintings_full/wikipaintings_val'\n",
        "  CSV_PATH = '/content/gdrive/Shareddrives/520 Project/Data/efficientnetv2_csv'\n",
        "  AUG_PATH = '/projectnb/dl523/students/project/Sarcasm/content/gdrive/Shareddrives/520 Project/Data/wikipaintings_full_aug/train'\n",
        "\n",
        "# Checking whether the augmenting path already exists\n",
        "if not os.path.exists(AUG_PATH):\n",
        "  os.makedirs(AUG_PATH)\n",
        "  print(\"Directory at \",AUG_PATH,\"has been created\")\n"
      ]
    },
    {
      "cell_type": "code",
      "execution_count": null,
      "metadata": {
        "colab": {
          "base_uri": "https://localhost:8080/"
        },
        "id": "uliOeTQUczuj",
        "outputId": "a56cbc81-9e5d-445e-a055-0ada90b3e58b"
      },
      "outputs": [
        {
          "output_type": "stream",
          "name": "stdout",
          "text": [
            "/content\n",
            "/content/gdrive/Shareddrives/520 Project/Data/wikipaintings_full/wikipaintings_train\n"
          ]
        }
      ],
      "source": [
        "# Working Directory\n",
        "small = False\n",
        "# %%capture\n",
        "%cd '.'\n",
        "%pwd\n",
        "if small:\n",
        "  %cd 'gdrive/Shareddrives/520 Project/Data/wikipaintings_small/wikipaintings_train'\n",
        "else:\n",
        "  %cd 'gdrive/Shareddrives/520 Project/Data/wikipaintings_full/wikipaintings_train'\n",
        "# %ls \n"
      ]
    },
    {
      "cell_type": "code",
      "execution_count": null,
      "metadata": {
        "colab": {
          "base_uri": "https://localhost:8080/"
        },
        "id": "QtqITGNVTPrU",
        "outputId": "23f4675c-5c78-4fc6-af17-3a5e2eab3feb"
      },
      "outputs": [
        {
          "output_type": "stream",
          "name": "stdout",
          "text": [
            "Abstract Art  needs  9038  more examples\n",
            "Abstract Expressionism  needs  8160  more examples\n",
            "Art Informel  needs  9068  more examples\n",
            "Art Nouveau Modern   needs  6481  more examples\n",
            "Baroque  needs  6620  more examples\n",
            "Color Field Painting  needs  8834  more examples\n",
            "Cubism  needs  8487  more examples\n",
            "Early Renaissance  needs  8776  more examples\n",
            "Expressionism  needs  5120  more examples\n",
            "High Renaissance  needs  8820  more examples\n",
            "Impressionism  needs  0  more examples\n",
            "Magic Realism  needs  9035  more examples\n",
            "Mannerism Late Renaissance   needs  8888  more examples\n",
            "Minimalism  needs  8827  more examples\n",
            "Naive Art Primitivism   needs  8212  more examples\n",
            "Neoclassicism  needs  7667  more examples\n",
            "Northern Renaissance  needs  7905  more examples\n",
            "Pop Art  needs  8938  more examples\n",
            "Post-Impressionism  needs  4994  more examples\n",
            "Realism  needs  1681  more examples\n",
            "Rococo  needs  8291  more examples\n",
            "Romanticism  needs  4532  more examples\n",
            "Surrealism  needs  5966  more examples\n",
            "Symbolism  needs  6562  more examples\n",
            "Ukiyo-e  needs  8899  more examples\n"
          ]
        }
      ],
      "source": [
        "# Getting the number of images present for each style in the current image folder\n",
        "styles = [ style for style in os.listdir(ART_DIR) if os.path.isdir(os.path.join(ART_DIR, style)) ]\n",
        "styles = sorted(styles)\n",
        "# Cleaning up Label Names for cleaner diagrams later on\n",
        "styles_for_labels = [re.sub(r'[^A-Za-z0-9 -]+', ' ', i) for i in styles]\n",
        "\n",
        "# Number of images needed for balanced classes\n",
        "file_count = []\n",
        "for style in styles:\n",
        "  number = sum(len(files) for _, _, files in os.walk(ART_DIR+'/'+style))\n",
        "  file_count.append(number)\n",
        "max_style_count = max(file_count);\n",
        "num_for_parity = max_style_count-np.array(file_count)\n",
        "for style,parity in zip(styles_for_labels,num_for_parity):\n",
        "  print(style,' needs ',parity,' more examples')"
      ]
    },
    {
      "cell_type": "code",
      "execution_count": null,
      "metadata": {
        "id": "0YlXbRX_wMrn"
      },
      "outputs": [],
      "source": [
        "# Augmentations\n",
        "\n",
        "seq = iaa.Sequential([\n",
        "    iaa.Resize(256), # Smaller file size\n",
        "    iaa.Fliplr(0.5), # Horizontal flips\n",
        "    iaa.Flipud(0.2), # Vertical Flips\n",
        "    iaa.Sometimes(\n",
        "        0.5,\n",
        "        iaa.GaussianBlur(sigma=(0, 0.5)), iaa.Affine(\n",
        "        scale={\"x\": (0.8, 1.2), \"y\": (0.8, 1.2)},\n",
        "        translate_percent={\"x\": (-0.2, 0.2), \"y\": (-0.2, 0.2)},\n",
        "        rotate=(-30, 30),\n",
        "        shear=(-8, 8),\n",
        "        cval=(0, 255)\n",
        "  )\n",
        "    ),\n",
        "    # Common distortions one might see (pixelation, compression, dirty lens, out of focus)\n",
        "    iaa.Sometimes(.8,iaa.OneOf([\n",
        "                        iaa.imgcorruptlike.Pixelate(severity=1),\n",
        "                        iaa.imgcorruptlike.JpegCompression(severity=1),\n",
        "                        iaa.imgcorruptlike.Spatter(severity=1),\n",
        "                        iaa.imgcorruptlike.ZoomBlur(severity=1)\n",
        "                    ]),),\n",
        "    iaa.SomeOf((0, 2),\n",
        "            [\n",
        "                # Blur the image \n",
        "                iaa.OneOf([\n",
        "                    iaa.GaussianBlur((0, 4.0)),\n",
        "                    iaa.AverageBlur(k=(2, 5)),\n",
        "                    iaa.MedianBlur(k=(3, 11)),\n",
        "                ]),\n",
        "\n",
        "                # Sharpen\n",
        "                iaa.Sharpen(alpha=(0, 1.0), lightness=(0.75, 1.5)),\n",
        "\n",
        "                # Add noise\n",
        "                iaa.AdditiveGaussianNoise(\n",
        "                    loc=0, scale=(0.0, 0.15*255), per_channel=0.5\n",
        "                ),\n",
        "                # Randomly drop pixels\n",
        "                iaa.Dropout((0.01, 0.1), per_channel=0.5),\n",
        "\n",
        "                # Different type of noise \n",
        "                iaa.SaltAndPepper(0.15),\n",
        "             \n",
        "                # Invert color channels\n",
        "                iaa.Invert(0.05, per_channel=True), # invert color channels\n",
        "\n",
        "                # Add fixed value to pixels\n",
        "                iaa.Add((-15, 15), per_channel=0.5),\n",
        "\n",
        "                # Change brightness of images\n",
        "                iaa.Multiply((0.5, 2.5), per_channel=0.5),\n",
        "\n",
        "                # Adjust Contrast\n",
        "                iaa.LinearContrast((0.5, 2.0), per_channel=0.5),\n",
        "\n",
        "            ],\n",
        "            # do the above augmentations in random order\n",
        "            random_order=True\n",
        "        )\n",
        "    ], random_order=True) # apply all augmenters in random order\n"
      ]
    },
    {
      "cell_type": "code",
      "execution_count": null,
      "metadata": {
        "id": "kDYgVnvvW8pf"
      },
      "outputs": [],
      "source": [
        "def augment_and_save(ART_DIR,AUG_PATH,style,parity,max_style_count,batch =50,img_batch = 200,save_percent = .7):\n",
        "  new_path = os.path.join(AUG_PATH, style)\n",
        "  style_path = os.path.join(ART_DIR, style)\n",
        "  # Create new directory in augmented folder\n",
        "  if not os.path.exists(new_path):\n",
        "    os.makedirs(new_path)\n",
        "\n",
        "  # Change into current art style directory\n",
        "  os.chdir(style_path)\n",
        "\n",
        "  # List of all images in given style directory\n",
        "  images = glob.glob(\"*.jpg\") \n",
        "    \n",
        "  if parity == 0: #Augmentations for the max class\n",
        "    count = 1\n",
        "    num_to_save = math.ceil(max_style_count*save_percent)\n",
        "    print(num_to_save)\n",
        "    for img in images:\n",
        "      if count <= num_to_save:\n",
        "        shutil.copy2(os.path.join(style_path,img),new_path)\n",
        "      else:\n",
        "        break\n",
        "      count+=1\n",
        "    \n",
        "    # Subset of images to modify\n",
        "    images = images[num_to_save-1:]\n",
        "\n",
        "    # Number of images to augment\n",
        "    remaining_images = max_style_count - count+1\n",
        "\n",
        "    saved = 0\n",
        "    while saved != remaining_images: \n",
        "      img_list = []\n",
        "      img_names = []\n",
        "      # Dont run past the right amount of augmented images\n",
        "      if remaining_images-saved<img_batch:\n",
        "        img_batch = remaining_images-saved\n",
        "      for j in range(img_batch): \n",
        "        # Random list of images to be augmented \n",
        "        random_image = random.choice(images)\n",
        "        im = cv2.imread(random_image)\n",
        "        img_list.append(im)\n",
        "        img_names.append(os.path.splitext(random_image)[0])\n",
        "\n",
        "      if img_list:\n",
        "\n",
        "        #Split into batches\n",
        "        batch_list = [img_list[i:i + batch] for i in range(0, len(img_list), batch)]\n",
        "        batch_names = [img_names[i:i + batch] for i in range(0, len(img_names), batch)]\n",
        "\n",
        "        # Image augmentation\n",
        "        for k in range(len(batch_list)):\n",
        "          altered_images = seq(images = batch_list[k])\n",
        "\n",
        "          # Store image in new aug folder\n",
        "          for i in range(len(batch_list[k])):\n",
        "            # filename = batch_names[k][i]\n",
        "\n",
        "            # while os.path.exists(os.path.join(new_path,filename+'.jpg')):\n",
        "            #   filename = filename +'aug'\n",
        "            filename = str(saved)\n",
        "            cv2.imwrite(os.path.join(new_path , filename+'.jpg'),altered_images[i])\n",
        "            saved+=1\n",
        "\n",
        "  else: # Save all copies of smaller classes, augment images until classes are balanced\n",
        "    for fname in images:\n",
        "      # copying the files to the destination directory\n",
        "      shutil.copy2(os.path.join(style_path,fname),new_path)\n",
        "\n",
        "    print('\\nAugmenting ',style,' images...')\n",
        "    saved = 0\n",
        "    while saved != parity: \n",
        "      img_list = []\n",
        "      img_names = []\n",
        "      # Dont run past the right amount of augmented images\n",
        "      if parity-saved<img_batch:\n",
        "        img_batch = parity-saved\n",
        "      for j in range(img_batch): \n",
        "        # Random list of images to be augmented \n",
        "        random_image = random.choice(images)\n",
        "        im = cv2.imread(random_image)\n",
        "        img_list.append(im)\n",
        "        img_names.append(os.path.splitext(random_image)[0])\n",
        "\n",
        "      if img_list:\n",
        "\n",
        "        #Split into batches\n",
        "        batch_list = [img_list[i:i + batch] for i in range(0, len(img_list), batch)]\n",
        "        batch_names = [img_names[i:i + batch] for i in range(0, len(img_names), batch)]\n",
        "\n",
        "        # Image augmentation\n",
        "        for k in range(len(batch_list)):\n",
        "          altered_images = seq(images = batch_list[k])\n",
        "\n",
        "          # Store image in new aug folder\n",
        "          for i in range(len(batch_list[k])):\n",
        "            # filename = batch_names[k][i]\n",
        "\n",
        "            # while os.path.exists(os.path.join(new_path,filename+'.jpg')):\n",
        "            #   filename = filename +'aug'\n",
        "            filename = str(saved)\n",
        "            cv2.imwrite(os.path.join(new_path , filename+'.jpg'),altered_images[i])\n",
        "            saved+=1\n",
        "\n"
      ]
    },
    {
      "cell_type": "code",
      "execution_count": null,
      "metadata": {
        "colab": {
          "background_save": true,
          "base_uri": "https://localhost:8080/"
        },
        "id": "tW6HR6vNqlt9",
        "outputId": "59eef36a-41cd-48f1-aed4-98a2347d6ff3"
      },
      "outputs": [
        {
          "name": "stdout",
          "output_type": "stream",
          "text": [
            "\n",
            "Augmenting  Naive_Art_(Primitivism)  images...\n"
          ]
        }
      ],
      "source": [
        "# Augmenting and saving for each art style\n",
        "for style, parity in zip(styles,num_for_parity):\n",
        "  augment_and_save(ART_DIR,AUG_PATH,style,parity,max_style_count)"
      ]
    },
    {
      "cell_type": "code",
      "execution_count": null,
      "metadata": {
        "id": "zZR3EpmNd6qo",
        "colab": {
          "base_uri": "https://localhost:8080/"
        },
        "outputId": "4632b862-5a65-44f8-8b60-799e2a140a4f",
        "cellView": "form"
      },
      "outputs": [
        {
          "output_type": "stream",
          "name": "stdout",
          "text": [
            "Abstract Art  needs  0  more examples\n",
            "Abstract Expressionism  needs  0  more examples\n",
            "Art Informel  needs  0  more examples\n",
            "Art Nouveau Modern   needs  0  more examples\n",
            "Baroque  needs  0  more examples\n",
            "Color Field Painting  needs  0  more examples\n",
            "Cubism  needs  0  more examples\n",
            "Early Renaissance  needs  289  more examples\n",
            "Expressionism  needs  0  more examples\n",
            "High Renaissance  needs  0  more examples\n",
            "Impressionism  needs  0  more examples\n",
            "Magic Realism  needs  0  more examples\n",
            "Mannerism Late Renaissance   needs  0  more examples\n",
            "Minimalism  needs  0  more examples\n",
            "Naive Art Primitivism   needs  112  more examples\n",
            "Neoclassicism  needs  0  more examples\n",
            "Northern Renaissance  needs  0  more examples\n",
            "Pop Art  needs  0  more examples\n",
            "Post-Impressionism  needs  0  more examples\n",
            "Realism  needs  0  more examples\n",
            "Rococo  needs  0  more examples\n",
            "Romanticism  needs  0  more examples\n",
            "Surrealism  needs  0  more examples\n",
            "Symbolism  needs  0  more examples\n",
            "Ukiyo-e  needs  499  more examples\n"
          ]
        }
      ],
      "source": [
        "#@title\n",
        "styles = [ style for style in os.listdir(AUG_PATH) if os.path.isdir(os.path.join(AUG_PATH, style)) ]\n",
        "styles = sorted(styles)\n",
        "# Cleaning up Label Names for cleaner diagrams later on\n",
        "styles_for_labels = [re.sub(r'[^A-Za-z0-9 -]+', ' ', i) for i in styles]\n",
        "\n",
        "# Number of images needed for balanced classes\n",
        "file_count = []\n",
        "for style in styles:\n",
        "  number = sum(len(files) for _, _, files in os.walk(AUG_PATH+'/'+style))\n",
        "  file_count.append(number)\n",
        "max_style_count = max(file_count);\n",
        "num_for_parity = max_style_count-np.array(file_count)\n",
        "for style,parity in zip(styles_for_labels,num_for_parity):\n",
        "  print(style,' needs ',parity,' more examples')"
      ]
    },
    {
      "cell_type": "code",
      "source": [
        "#@title\n",
        "def augment_and_save2(ART_DIR,AUG_PATH,style,parity,max_style_count,batch =50,img_batch = 200,save_percent = .7):\n",
        "  new_path = os.path.join(AUG_PATH, style)\n",
        "  style_path = os.path.join(ART_DIR, style)\n",
        "  # Create new directory in augmented folder\n",
        "  if not os.path.exists(new_path):\n",
        "    os.makedirs(new_path)\n",
        "    print('made new directory',new_path)\n",
        "\n",
        "  # Change into current art style directory\n",
        "  os.chdir(style_path)\n",
        "\n",
        "  # List of all images for given style\n",
        "  images = glob.glob(\"*.jpg\") \n",
        "  print('leng images',len(images))\n",
        "  if parity == 0: #Augmentations for the max class\n",
        "    count = 1\n",
        "    num_to_save = math.ceil(max_style_count*save_percent)\n",
        "    print(num_to_save)\n",
        "    for img in images:\n",
        "      if count <= num_to_save:\n",
        "        shutil.copy2(os.path.join(style_path,img),new_path)\n",
        "      else:\n",
        "        break\n",
        "      count+=1\n",
        "    \n",
        "    # Subset of images to modify\n",
        "    images = images[num_to_save-1:]\n",
        "\n",
        "    # Number of images to augment\n",
        "    remaining_images = max_style_count - count+1\n",
        "\n",
        "    saved = 0\n",
        "    while saved != remaining_images: \n",
        "      img_list = []\n",
        "      img_names = []\n",
        "      # Dont run past the right amount of augmented images\n",
        "      if remaining_images-saved<img_batch:\n",
        "        img_batch = remaining_images-saved\n",
        "      for j in range(img_batch): \n",
        "        # Random list of images to be augmented \n",
        "        random_image = random.choice(images)\n",
        "        im = cv2.imread(random_image)\n",
        "        img_list.append(im)\n",
        "        img_names.append(os.path.splitext(random_image)[0])\n",
        "\n",
        "      if img_list:\n",
        "\n",
        "        #Split into batches\n",
        "        batch_list = [img_list[i:i + batch] for i in range(0, len(img_list), batch)]\n",
        "        batch_names = [img_names[i:i + batch] for i in range(0, len(img_names), batch)]\n",
        "\n",
        "        # Image augmentation\n",
        "        for k in range(len(batch_list)):\n",
        "          altered_images = seq(images = batch_list[k])\n",
        "\n",
        "          # Store image in new aug folder\n",
        "          for i in range(len(batch_list[k])):\n",
        "            # filename = batch_names[k][i]\n",
        "\n",
        "            # while os.path.exists(os.path.join(new_path,filename+'.jpg')):\n",
        "            #   filename = filename +'aug'\n",
        "            filename = str(saved)\n",
        "            cv2.imwrite(os.path.join(new_path , filename+'.jpg'),altered_images[i])\n",
        "            saved+=1\n",
        "\n",
        "  else: # Save all copies of smaller classes, augment images until classes are balanced\n",
        "    # for fname in images:\n",
        "    #   # copying the files to the destination directory\n",
        "    #   shutil.copy2(os.path.join(style_path,fname),new_path)\n",
        "\n",
        "    print('\\nAugmenting ',style,' images...')\n",
        "    saved = 0\n",
        "    while saved != parity: \n",
        "      img_list = []\n",
        "      img_names = []\n",
        "      # Dont run past the right amount of augmented images\n",
        "      if parity-saved<img_batch:\n",
        "        img_batch = parity-saved\n",
        "      for j in range(img_batch): \n",
        "        # Random list of images to be augmented \n",
        "        random_image = random.choice(images)\n",
        "        im = cv2.imread(random_image)\n",
        "        img_list.append(im)\n",
        "        img_names.append(os.path.splitext(random_image)[0])\n",
        "\n",
        "      if img_list:\n",
        "\n",
        "        #Split into batches\n",
        "        batch_list = [img_list[i:i + batch] for i in range(0, len(img_list), batch)]\n",
        "        batch_names = [img_names[i:i + batch] for i in range(0, len(img_names), batch)]\n",
        "\n",
        "        # Image augmentation\n",
        "        for k in range(len(batch_list)):\n",
        "          altered_images = seq(images = batch_list[k])\n",
        "\n",
        "          # Store image in new aug folder\n",
        "          for i in range(len(batch_list[k])):\n",
        "            filename = batch_names[k][i]\n",
        "            filename = filename + 'aug'\n",
        "            print(filename)\n",
        "            while os.path.exists(os.path.join(new_path,filename+'.jpg')):\n",
        "              filename = filename +'aug'\n",
        "            \n",
        "            cv2.imwrite(os.path.join(new_path , filename+'.jpg'),altered_images[i])\n",
        "            saved+=1"
      ],
      "metadata": {
        "id": "MUj5n7RSBMwd",
        "cellView": "form"
      },
      "execution_count": null,
      "outputs": []
    }
  ],
  "metadata": {
    "colab": {
      "collapsed_sections": [],
      "name": "Image Augmentation.ipynb",
      "provenance": [],
      "authorship_tag": "ABX9TyMWhbl2t3MCdzIzng5cocJw",
      "include_colab_link": true
    },
    "kernelspec": {
      "display_name": "Python 3",
      "name": "python3"
    },
    "language_info": {
      "name": "python"
    }
  },
  "nbformat": 4,
  "nbformat_minor": 0
}
